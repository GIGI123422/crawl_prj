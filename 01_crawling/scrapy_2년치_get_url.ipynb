{
 "cells": [
  {
   "cell_type": "markdown",
   "metadata": {},
   "source": [
    "### 프로젝트 시작"
   ]
  },
  {
   "cell_type": "code",
   "execution_count": null,
   "metadata": {},
   "outputs": [],
   "source": [
    "!scrapy startproject get_url"
   ]
  },
  {
   "cell_type": "markdown",
   "metadata": {},
   "source": [
    "### items.py"
   ]
  },
  {
   "cell_type": "code",
   "execution_count": null,
   "metadata": {},
   "outputs": [],
   "source": [
    "%%writefile get_url/get_url/items.py\n",
    "# Define here the models for your scraped items\n",
    "#\n",
    "# See documentation in:\n",
    "# https://docs.scrapy.org/en/latest/topics/items.html\n",
    "\n",
    "import scrapy\n",
    "\n",
    "\n",
    "class GetUrlItem(scrapy.Item):\n",
    "    # define the fields for your item here like:\n",
    "    # name = scrapy.Field()\n",
    "    date = scrapy.Field()\n",
    "    categ = scrapy.Field()\n",
    "    last_p = scrapy.Field()"
   ]
  },
  {
   "cell_type": "markdown",
   "metadata": {},
   "source": [
    "### spider.py"
   ]
  },
  {
   "cell_type": "code",
   "execution_count": null,
   "metadata": {},
   "outputs": [],
   "source": [
    "%%writefile get_url/get_url/spiders/spider.py\n",
    "import scrapy\n",
    "from .naver_articles import *\n",
    "from scrapy.http import TextResponse\n",
    "from get_url.items import GetUrlItem\n",
    "\n",
    "class GetUrlSpider(scrapy.Spider):\n",
    "    name = 'get_url'\n",
    "    allow_domain=[\"https://news.naver.com\"]\n",
    "    \n",
    "    user_agent= 'Mozilla/5.0 (Windows NT 10.0; Win64; x64) AppleWebKit/537.36 (KHTML, like Gecko) Chrome/86.0.4240.198 Safari/537.36'\n",
    "    def start_requests(self):\n",
    "        dates = get_day_list('2019/01/01', '2020/11/29')\n",
    "        categ_s = [101, 102, 103, 105]\n",
    "        #dates = list(divide_list(dates, 60))\n",
    "        for date in dates:\n",
    "            for categ in categ_s:\n",
    "                for page in range(1, 250, 10):\n",
    "                # 마지막 페이지로 \n",
    "                    url = 'https://news.naver.com/main/list.nhn?mode=LSD&mid=sec&listType=title&sid1={}&date={}&page={}'.format(categ, date, page)\n",
    "                    yield scrapy.Request(url, callback=self.parse)\n",
    "                    \n",
    "    def parse(self, resp):\n",
    "        item = GetUrlItem()\n",
    "        try:\n",
    "            chk_next = resp.xpath('//div[@class=\"paging\"]/a[@class=\"next nclicks(fls.page)\"]/text()')[0].extract()\n",
    "        except:\n",
    "            chk_next = '끝'\n",
    "        \n",
    "        if chk_next == '끝':\n",
    "            pages = resp.xpath('//a[@class=\"nclicks(fls.page)\"]/text() | \\\n",
    "                //*[@id=\"main_content\"]/div[@class=\"paging\"]/strong/text()').extract()\n",
    "            current_page = resp.url.split('page=')[1]\n",
    "            if int(current_page) < int(pages[-1]):\n",
    "                item['date'] = resp.url.split('date=')[1].split('&')[0]\n",
    "                item['categ'] = resp.url.split('sid1=')[1].split('&')[0]\n",
    "                item['last_p'] = pages[-1]\n",
    "\n",
    "                yield item"
   ]
  },
  {
   "cell_type": "code",
   "execution_count": null,
   "metadata": {},
   "outputs": [],
   "source": []
  },
  {
   "cell_type": "code",
   "execution_count": null,
   "metadata": {},
   "outputs": [],
   "source": []
  },
  {
   "cell_type": "code",
   "execution_count": null,
   "metadata": {},
   "outputs": [],
   "source": []
  },
  {
   "cell_type": "code",
   "execution_count": null,
   "metadata": {},
   "outputs": [],
   "source": []
  }
 ],
 "metadata": {
  "kernelspec": {
   "display_name": "Python 3",
   "language": "python",
   "name": "python3"
  },
  "language_info": {
   "codemirror_mode": {
    "name": "ipython",
    "version": 3
   },
   "file_extension": ".py",
   "mimetype": "text/x-python",
   "name": "python",
   "nbconvert_exporter": "python",
   "pygments_lexer": "ipython3",
   "version": "3.8.3"
  }
 },
 "nbformat": 4,
 "nbformat_minor": 4
}
